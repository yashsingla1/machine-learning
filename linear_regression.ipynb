{
  "cells": [
    {
      "cell_type": "markdown",
      "metadata": {
        "id": "view-in-github",
        "colab_type": "text"
      },
      "source": [
        "<a href=\"https://colab.research.google.com/github/yashsingla1/machine-learning1/blob/main/linear_regression.ipynb\" target=\"_parent\"><img src=\"https://colab.research.google.com/assets/colab-badge.svg\" alt=\"Open In Colab\"/></a>"
      ]
    },
    {
      "cell_type": "code",
      "execution_count": null,
      "metadata": {
        "id": "5YV81obCoVWf"
      },
      "outputs": [],
      "source": [
        ""
      ]
    },
    {
      "cell_type": "code",
      "source": [
        "from google.colab import drive\n",
        "\n",
        "drive.mount('/content/gdrive')\n",
        "\n",
        "import pandas as pd \n",
        "df=pd.read_csv('gdrive/My Drive/Linear_train.csv')\n",
        "\n",
        "import numpy as np\n",
        "import matplotlib.pyplot as plt\n",
        "import pandas as pd\n",
        "\n",
        "\n",
        "\n",
        "\n",
        "X = df.values[:, 1:21]\n",
        "#print(X)\n",
        "y = df.values[:, 21]\n",
        "m = len(y)\n",
        "\n",
        "#print('Total no of training examples (m) = %s \\n' %(m))\n",
        "\n",
        "def feature_normalize(X):\n",
        "  mu = np.mean(X, axis = 0)\n",
        "  sigma = np.std(X, axis= 0, ddof = 1)\n",
        "  X_norm = (X - mu)/sigma\n",
        "  return X_norm,mu,sigma\n",
        "X,mu,sigma=feature_normalize(X)  \n",
        "\n",
        "X = np.hstack((np.ones((m,1)), X))\n",
        "\n",
        "\n",
        "def compute_cost(X, y, theta):\n",
        "  predictions = X.dot(theta)\n",
        "  errors = np.subtract(predictions, y)\n",
        "  sqrErrors = np.square(errors)\n",
        "  J = 1/(2 * m) * errors.dot(errors)\n",
        "  return J\n",
        "\n",
        "def gradient_descent(X, y, theta, alpha, iterations):\n",
        "  cost_history = np.zeros(iterations)\n",
        "  for i in range(iterations):\n",
        "    predictions = X.dot(theta)\n",
        "    \n",
        "    errors = np.subtract(predictions, y)\n",
        "    sum_delta = (alpha / m) * X.transpose().dot(errors);\n",
        "    theta = theta - sum_delta;\n",
        "    cost_history[i] = compute_cost(X, y, theta) \n",
        "  return theta, cost_history\n",
        "                          \n",
        "theta = np.zeros(21)\n",
        "iterations = 140;\n",
        "alpha = 0.1;\n",
        "\n",
        "theta, cost_history = gradient_descent(X, y, theta, alpha, iterations)\n",
        "\n",
        "#print('Final value of theta =', theta)\n",
        "#print('First 5 values of cost from cost_history =', cost_history[:5])\n",
        "#print('Last 5 values of cost from cost_history =', cost_history[-5 :])\n",
        "\n",
        "\n",
        "\n",
        "\n",
        "\n",
        "df2=pd.read_csv('gdrive/My Drive/Linear_test.csv')\n",
        "X1 = df2.values[:, 1:21]\n",
        "Y1=df2.values[:, 21]\n",
        "m1=len(Y1)\n",
        "X_norm1 = (X1 - mu)/sigma\n",
        "X_norm1= np.hstack((np.ones((m1,1)), X_norm1))\n",
        "price =X_norm1.dot(theta)\n",
        "#print(price)\n",
        "errors = np.subtract(price,Y1)\n",
        "sqrErrors = np.square(errors)\n",
        "sqrErrors=sqrErrors**0.5\n",
        "sum=0\n",
        "for i in range(m1):\n",
        "  sum=sum+sqrErrors[i]\n",
        "mean=sum/m1\n",
        "root=mean**0.5\n",
        "print(\"RMSE value is\", root)\n",
        "#print(\"PLOT OF GRAPH OF COSST FUNCTION WITH INCREASING ITERATIONS \")\n",
        "\n",
        "import matplotlib.pyplot as plt\n",
        "plt.plot(range(1, iterations +1), cost_history, color ='blue')\n",
        "plt.rcParams[\"figure.figsize\"] = (10,10)\n",
        "plt.grid()\n",
        "'''ax = plt.axes()\n",
        "ax.set_facecolor(\"yellow\")\n",
        "#plt.rcParams['figure.facecolor'] =\"orange\"'''\n",
        "plt.xlabel(\"Number of iterations\")\n",
        "plt.ylabel(\"cost (J)\")\n",
        "#plt.title(\"Convergence of gradient descent\")\n",
        "#print(X)\n",
        "\n",
        "\n",
        "\n",
        "\n",
        "\n",
        "\n",
        "\n",
        "\n",
        "\n",
        "\n"
      ],
      "metadata": {
        "colab": {
          "base_uri": "https://localhost:8080/",
          "height": 668
        },
        "id": "Dsk96BiB9c_5",
        "outputId": "9f0dfa23-a668-4db2-ff58-5bcb12d3934e"
      },
      "execution_count": null,
      "outputs": [
        {
          "output_type": "stream",
          "name": "stdout",
          "text": [
            "Drive already mounted at /content/gdrive; to attempt to forcibly remount, call drive.mount(\"/content/gdrive\", force_remount=True).\n",
            "RMSE value is 1.2131594907485281\n"
          ]
        },
        {
          "output_type": "execute_result",
          "data": {
            "text/plain": [
              "Text(0, 0.5, 'cost (J)')"
            ]
          },
          "metadata": {},
          "execution_count": 44
        },
        {
          "output_type": "display_data",
          "data": {
            "text/plain": [
              "<Figure size 720x720 with 1 Axes>"
            ],
            "image/png": "[encoded data removed]"
          },
          "metadata": {}
        }
      ]
    },
    {
      "cell_type": "code",
      "source": [
        ""
      ],
      "metadata": {
        "id": "hHTNNg46J9X7"
      },
      "execution_count": null,
      "outputs": []
    }
  ],
  "metadata": {
    "colab": {
      "name": "linear regression.ipynb",
      "provenance": [],
      "collapsed_sections": [],
      "authorship_tag": "ABX9TyNYh+OM7kI05T/PxO/JhyiS",
      "include_colab_link": true
    },
    "kernelspec": {
      "display_name": "Python 3",
      "name": "python3"
    },
    "language_info": {
      "name": "python"
    }
  },
  "nbformat": 4,
  "nbformat_minor": 0
}