{
  "nbformat": 4,
  "nbformat_minor": 0,
  "metadata": {
    "colab": {
      "name": "k means clustering.ipynb",
      "provenance": [],
      "authorship_tag": "ABX9TyNbbTrOb3ZIjnHQ5jNQ4BwC"
    },
    "kernelspec": {
      "name": "python3",
      "display_name": "Python 3"
    },
    "language_info": {
      "name": "python"
    }
  },
  "cells": [
    {
      "cell_type": "code",
      "execution_count": 2,
      "metadata": {
        "colab": {
          "base_uri": "https://localhost:8080/"
        },
        "id": "MKRnFVO7fegE",
        "outputId": "99edd582-0a27-42b1-890c-f75f2b60d53b"
      },
      "outputs": [
        {
          "output_type": "stream",
          "name": "stdout",
          "text": [
            "Drive already mounted at /content/gdrive; to attempt to forcibly remount, call drive.mount(\"/content/gdrive\", force_remount=True).\n",
            "61.51281516982705 percent of the predicted values are correct\n"
          ]
        }
      ],
      "source": [
        "import pandas as pd\n",
        "import numpy as np\n",
        "import matplotlib.pyplot as plt\n",
        "from google.colab import drive\n",
        "\n",
        "drive.mount('/content/gdrive')\n",
        "\n",
        "df=pd.read_csv('gdrive/My Drive/emnist-letters-train.csv')\n",
        "x = df.values[:, :785]\n",
        "\n",
        "\n",
        "y=df.values[:, 0]\n",
        "m=len(x)\n",
        "\n",
        "centroid=np.zeros([26,784])      \n",
        "x = x[x[:, 0].argsort()] \n",
        "#print(x)\n",
        "\n",
        "s=0\n",
        "count=0\n",
        "for i in range(1,27):\n",
        "  \n",
        "  s=count\n",
        "  for j in range(m):\n",
        "    if x[j][0]==i:\n",
        "      count=count+1      \n",
        "  centroid[i-1]=np.mean(x[s:count,1:785]/255,axis=0)\n",
        "#print(centroid[0])\n",
        "df=pd.read_csv('gdrive/My Drive/emnist-letters-test.csv')\n",
        "y1=df.values[10000:, 0]\n",
        "x1= df.values[10000:, 1:785]\n",
        "x1=x1/255\n",
        "m1=len(y1)\n",
        "\n",
        "y2=np.zeros([m1,1])\n",
        "for e in range(m1):\n",
        "  \n",
        "  p=np.zeros([26,784])\n",
        "  \n",
        "\n",
        "  for i in range(26):\n",
        "    p[i]=x1[e]\n",
        "\n",
        "  d=centroid-p\n",
        "  d=d**2\n",
        "  #d=d**0.5\n",
        "  f=np.sum(d,axis=1)\n",
        "  i= np.unravel_index(f.argmin(), f.shape)\n",
        "  y2[e]=i[0]+1\n",
        "  '''f= np.hstack((np.ones((m1,1)), f))\n",
        "  for i in range(26):\n",
        "    f[i][0]=i+1\n",
        "  f= f[f[:, 0].argsort()]  \n",
        "  y2[e]=f[0][0]\n",
        "'''\n",
        "errors=np.zeros([m1,1])\n",
        "for d in range(m1):\n",
        "  errors[d]=y2[d][0]-y1[d]\n",
        "'''for h in range(m1):\n",
        "  y2[h][0]==y2[h][0]'''\n",
        "\n",
        "sqrErrors = np.square(errors)\n",
        "sqrErrors=sqrErrors**0.5\n",
        "sum=0\n",
        "for q in range(m1):\n",
        "  sum=sum+sqrErrors[q]\n",
        "\n",
        "mean=sum/m1\n",
        "\n",
        "c=0\n",
        "for i in range(m1):\n",
        "  if y2[i][0]==y1[i]:\n",
        "    c=c+1\n",
        "\n",
        "a=c/m1\n",
        "print(a*100,\"percent of the predicted values are correct\")\n"
      ]
    }
  ]
}