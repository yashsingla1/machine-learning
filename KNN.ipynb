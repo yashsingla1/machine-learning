{
  "nbformat": 4,
  "nbformat_minor": 0,
  "metadata": {
    "colab": {
      "name": "KNN.ipynb",
      "provenance": [],
      "authorship_tag": "ABX9TyOCZeeHVmxlN8MPn7BCy7AO"
    },
    "kernelspec": {
      "name": "python3",
      "display_name": "Python 3"
    },
    "language_info": {
      "name": "python"
    }
  },
  "cells": [
    {
      "cell_type": "code",
      "execution_count": 1,
      "metadata": {
        "colab": {
          "base_uri": "https://localhost:8080/"
        },
        "id": "j_kvpgnd-3BU",
        "outputId": "24122271-5158-4166-e3ad-5e7a6a8359a0"
      },
      "outputs": [
        {
          "output_type": "stream",
          "name": "stdout",
          "text": [
            "Mounted at /content/gdrive\n"
          ]
        }
      ],
      "source": [
        "import pandas as pd\n",
        "import numpy as np\n",
        "import matplotlib.pyplot as plt\n",
        "from google.colab import drive\n",
        "\n",
        "drive.mount('/content/gdrive')\n",
        "\n",
        "df=pd.read_csv('gdrive/My Drive/emnist-letters-train.csv')\n",
        "x = df.values[:, 1:785]\n",
        "y=df.values[:, 0]\n",
        "m=len(x)\n",
        "\n",
        "#x=x/255\n",
        "\n",
        "\n",
        "df1=pd.read_csv('gdrive/My Drive/emnist-letters-test.csv')\n",
        "x1= df1.values[9500:10000, 1:785]\n",
        "#x1=x1/255\n",
        "y1=df1.values[9500:10000, 0]\n",
        "m1=len(y1)\n",
        "final=np.zeros([m1,1])\n",
        "\n",
        "\n",
        "def values(s):\n",
        "  r=np.empty([m,784])\n",
        "  for j in range(m):\n",
        "    r[j]=s\n",
        "  return r  \n",
        "\n",
        "\n",
        "def count(c,f):\n",
        "  for j in range(1,27):\n",
        "    c1=0\n",
        "    for u in range(350):\n",
        "      if f[u][0]==j:\n",
        "        c1=c1+1\n",
        "    c[j-1][1]=c1\n",
        "  \n",
        "  c = c[c[:, 1].argsort()]\n",
        "  return(c) \n",
        "\n",
        "for i in range(m1):\n",
        "  \n",
        "  r=values(x1[i])\n",
        "  d=(r-x)**2\n",
        "  \n",
        "  \n",
        "  f=np.zeros([m,1])\n",
        "  \n",
        "  b=np.sum(d,axis=1)  \n",
        "  for o in range(m):\n",
        "    f[o]=b[o]  \n",
        "  \n",
        "\n",
        "  f= np.hstack((np.ones((m,1)), f))\n",
        "  for z in range(m):\n",
        "    f[z][0]=y[z]\n",
        "  f = f[f[:, 1].argsort()]  \n",
        "\n",
        "  c=np.empty([26,2])\n",
        "  for l in range(26):\n",
        "    c[l][0]=l+1\n",
        "  \n",
        "  c=count(c,f) \n",
        "  final[i][0]=c[25][0]"
      ]
    },
    {
      "cell_type": "code",
      "source": [
        "c=0\n",
        "for i in range(m1):\n",
        "  if final[i][0]==y1[i]:\n",
        "    c=c+1\n",
        "\n",
        "a=c/m1\n",
        "print(a*100,\"precent of values predicted are correct\")"
      ],
      "metadata": {
        "colab": {
          "base_uri": "https://localhost:8080/"
        },
        "id": "aw7Dya6D_A8c",
        "outputId": "ab32a0d4-2374-4c64-e6af-9e400a960da7"
      },
      "execution_count": 4,
      "outputs": [
        {
          "output_type": "stream",
          "name": "stdout",
          "text": [
            "85.6 precent of values predicted are correct\n"
          ]
        }
      ]
    }
  ]
}